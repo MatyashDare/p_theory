{
 "cells": [
  {
   "cell_type": "code",
   "execution_count": 139,
   "metadata": {},
   "outputs": [
    {
     "name": "stdout",
     "output_type": "stream",
     "text": [
      "['«Мой дядя самых честных правил,', 'Когда не в шутку занемог,', 'Он уважать себя заставил', 'И лучше выдумать не мог.', 'Его пример другим наука;', 'Но, боже мой, какая скука', 'С больным сидеть и день и ночь,', 'Не отходя ни шагу прочь!', 'Какое низкое коварство', 'Полуживого забавлять,']\n"
     ]
    }
   ],
   "source": [
    "import re\n",
    "\n",
    "\n",
    "with open('onegin.txt', encoding = 'utf-8') as f:\n",
    "    text = f.read()\n",
    "    \n",
    "text_clear = re.sub(r'\\[[0-9]*\\]', '', text) #почистили текст от примечаний\n",
    "strings = re.split(r'[A-Z]{2,10}', text_clear)              \n",
    "t = [re.sub('\\n', '', w) for w in ' '.join(strings).split('\\n\\n') if w!='' \n",
    "        and not '……………' in w \n",
    "        and not re.findall(r'[A-Z]{2,10}', w)\n",
    "    and w != '' and w!= ' '] #получили почищенный список всех строк произведения\n",
    "poem = t[26:] #первые 25 строк - название, эпиграф и т.д\n",
    "print(poem[:10]) #например, выведем первые 10 строчек в почищенном тексте"
   ]
  },
  {
   "cell_type": "markdown",
   "metadata": {},
   "source": [
    "Теперь попробуем посчитать количество анжамбеманов (посмотрим только на все из них: rejet — «сброс» (конец предложения захватывает начало следующего стиха), contre-rejet «наброс» (начало предложения захватывает конец предыдущего стиха  и double-rejet — «двойной бросок» (фраза начинается посреди стиха и кончается посреди следующего))"
   ]
  },
  {
   "cell_type": "code",
   "execution_count": 196,
   "metadata": {},
   "outputs": [],
   "source": [
    "rejet = []\n",
    "r = 0\n",
    "contre_rejet = []\n",
    "c_r = 0\n",
    "ordinary = []\n",
    "o = 0\n",
    "double_rejet = []\n",
    "d_r = 0\n",
    "all_sent = 0\n",
    "for i in range(len(poem) - 1):\n",
    "    if re.findall(r'.*?(?:\\;|\\.| – ).+', poem[i]):\n",
    "        if re.findall(r'(?:\\;|\\.|\\!|\\?)', poem[i][-1]):\n",
    "            rejet.append(poem[i])\n",
    "            r += 1\n",
    "            all_sent += 1\n",
    "        elif re.findall(r'.*?(?:;|\\.| – ).+', poem[i + 1]):\n",
    "            double_rejet.append(poem[i] + ' ' + poem[i + 1])\n",
    "            d_r += 1\n",
    "            all_sent += 1\n",
    "        elif re.findall(r'(?:;|\\.|\\!|\\?|\\:)', poem[i + 1][-1]):\n",
    "            contre_rejet.append(poem[i] + ' ' + poem[i + 1])\n",
    "            c_r += 1\n",
    "            all_sent += 1\n",
    "    elif re.findall(r'(?:;|\\.|\\!|\\?)', poem[i][-1]):\n",
    "        ordinary.append(poem[i])\n",
    "        o += 1\n",
    "        all_sent += 1"
   ]
  },
  {
   "cell_type": "markdown",
   "metadata": {},
   "source": [
    "Сравним количество \"простых\" строк с разными типами анжамбаменов:"
   ]
  },
  {
   "cell_type": "code",
   "execution_count": 200,
   "metadata": {},
   "outputs": [
    {
     "data": {
      "image/png": "[encoded data removed]",
      "text/plain": [
       "<Figure size 864x432 with 1 Axes>"
      ]
     },
     "metadata": {},
     "output_type": "display_data"
    }
   ],
   "source": [
    "%matplotlib inline\n",
    "import numpy as np\n",
    "import matplotlib.pyplot as plt\n",
    "\n",
    "x = ['ordinary', 'rejet', 'contre_rejet', 'double_rejet']\n",
    "y = [o, r, c_r, d_r]\n",
    "\n",
    "fig, ax = plt.subplots()\n",
    "\n",
    "ax.bar(x, y)\n",
    "color_rectangle = ['lightpink', 'tomato', 'lightcoral', 'cornflowerblue']\n",
    "ax.bar(x, y, color = color_rectangle)\n",
    "ax.set_facecolor('seashell')\n",
    "fig.set_facecolor('floralwhite')\n",
    "fig.set_figwidth(12)    #  ширина Figure\n",
    "fig.set_figheight(6)    #  высота Figure\n",
    "\n",
    "plt.show()"
   ]
  },
  {
   "cell_type": "markdown",
   "metadata": {},
   "source": [
    "Теперь посмотрии процентное отношение всех разных редложений к строкам, имеющим какую-либо пунктуацию:"
   ]
  },
  {
   "cell_type": "code",
   "execution_count": 199,
   "metadata": {},
   "outputs": [
    {
     "data": {
      "image/png": "[encoded data removed]",
      "text/plain": [
       "<Figure size 864x432 with 1 Axes>"
      ]
     },
     "metadata": {},
     "output_type": "display_data"
    }
   ],
   "source": [
    "%matplotlib inline\n",
    "import numpy as np\n",
    "import matplotlib.pyplot as plt\n",
    "\n",
    "x = ['ordinary', 'rejet', 'contre_rejet', 'double_rejet']\n",
    "y = [o / all_sent * 100, r / all_sent * 100, c_r / all_sent * 100, d_r / all_sent * 100]\n",
    "\n",
    "fig, ax = plt.subplots()\n",
    "\n",
    "ax.bar(x, y)\n",
    "color_rectangle = ['lightpink', 'tomato', 'lightcoral', 'cornflowerblue']\n",
    "ax.bar(x, y, color = color_rectangle)\n",
    "ax.set_facecolor('seashell')\n",
    "fig.set_facecolor('floralwhite')\n",
    "fig.set_figwidth(12)    #  ширина Figure\n",
    "fig.set_figheight(6)    #  высота Figure\n",
    "\n",
    "plt.show()"
   ]
  }
 ],
 "metadata": {
  "kernelspec": {
   "display_name": "Python 3",
   "language": "python",
   "name": "python3"
  },
  "language_info": {
   "codemirror_mode": {
    "name": "ipython",
    "version": 3
   },
   "file_extension": ".py",
   "mimetype": "text/x-python",
   "name": "python",
   "nbconvert_exporter": "python",
   "pygments_lexer": "ipython3",
   "version": "3.7.3"
  }
 },
 "nbformat": 4,
 "nbformat_minor": 4
}
